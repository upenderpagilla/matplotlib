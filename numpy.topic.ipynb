{
 "cells": [
  {
   "cell_type": "code",
   "execution_count": 108,
   "id": "ddb16e57",
   "metadata": {},
   "outputs": [
    {
     "name": "stdout",
     "output_type": "stream",
     "text": [
      "Requirement already satisfied: numpy in d:\\anaconda\\lib\\site-packages (1.21.5)\n"
     ]
    }
   ],
   "source": [
    "# for installing the numpy \n",
    "!pip install numpy\n",
    "\n",
    "#import numpy module with alias np\n",
    "import numpy as np"
   ]
  },
  {
   "cell_type": "code",
   "execution_count": 110,
   "id": "d6ac8600",
   "metadata": {},
   "outputs": [],
   "source": [
    "# Define a numpy array passing a list with  1,2 and 3 as elements in it\n",
    "a = np.array([1,2,3,4,'a'])\n"
   ]
  },
  {
   "cell_type": "code",
   "execution_count": 111,
   "id": "2ec4fc27",
   "metadata": {},
   "outputs": [
    {
     "data": {
      "text/plain": [
       "array(['1', '2', '3', '4', 'a'], dtype='<U11')"
      ]
     },
     "execution_count": 111,
     "metadata": {},
     "output_type": "execute_result"
    }
   ],
   "source": [
    "# print a\n",
    "a"
   ]
  },
  {
   "cell_type": "code",
   "execution_count": 112,
   "id": "3feb1aea",
   "metadata": {},
   "outputs": [],
   "source": [
    "# define a,b,c and d as instructed above\n",
    "a = np.array(10)\n",
    "b = np.array([1,2,3])\n",
    "c = np.array([[1, 2, 3], [4, 5, 6]])\n",
    "d = np.array([[[1, 2, 3], [4, 5, 6]], [[1, 2, 3], [4, 5, 6]]])"
   ]
  },
  {
   "cell_type": "code",
   "execution_count": 113,
   "id": "c8ee6c6c",
   "metadata": {
    "scrolled": true
   },
   "outputs": [
    {
     "name": "stdout",
     "output_type": "stream",
     "text": [
      "a dimension: 0\n",
      "b dimension: 1\n",
      "c dimension: 2\n",
      "d dimension: 3\n"
     ]
    }
   ],
   "source": [
    "#print dimentions of a,b, c and d\n",
    "print('a dimension:', a.ndim)\n",
    "print('b dimension:', b.ndim)\n",
    "print('c dimension:', c.ndim)\n",
    "print('d dimension:', d.ndim)"
   ]
  },
  {
   "cell_type": "code",
   "execution_count": null,
   "id": "9dd26e20",
   "metadata": {},
   "outputs": [],
   "source": [
    "# print shape of each a,b ,c and d\n",
    "print(a)\n",
    "print('shape of a:', a.shape)\n",
    "print(b)\n",
    "print('shape of b:', b.shape)\n",
    "print(c)\n",
    "print('shape of c:', c.shape)\n",
    "print(d)\n",
    "print('shape of d:', d.shape)"
   ]
  },
  {
   "cell_type": "code",
   "execution_count": 114,
   "id": "4729c220",
   "metadata": {},
   "outputs": [
    {
     "name": "stdout",
     "output_type": "stream",
     "text": [
      "int32\n",
      "int32\n"
     ]
    }
   ],
   "source": [
    "# print data type of c and d\n",
    "print(c.dtype)\n",
    "print(d.dtype)"
   ]
  },
  {
   "cell_type": "code",
   "execution_count": 115,
   "id": "704c8b40",
   "metadata": {},
   "outputs": [
    {
     "data": {
      "text/plain": [
       "2"
      ]
     },
     "execution_count": 115,
     "metadata": {},
     "output_type": "execute_result"
    }
   ],
   "source": [
    "# Lets check length of array b, using len() function\n",
    "len(d)"
   ]
  },
  {
   "cell_type": "code",
   "execution_count": 116,
   "id": "c763da60",
   "metadata": {},
   "outputs": [
    {
     "name": "stdout",
     "output_type": "stream",
     "text": [
      "<class 'numpy.ndarray'>\n",
      "<class 'numpy.ndarray'>\n"
     ]
    }
   ],
   "source": [
    "#print type of a and b variable\n",
    "print(type(a))\n",
    "print(type(b))"
   ]
  },
  {
   "cell_type": "code",
   "execution_count": 117,
   "id": "56406f79",
   "metadata": {},
   "outputs": [
    {
     "data": {
      "text/plain": [
       "2"
      ]
     },
     "execution_count": 117,
     "metadata": {},
     "output_type": "execute_result"
    }
   ],
   "source": [
    "# Lets check length of array b, using len() function\n",
    "len(d)"
   ]
  },
  {
   "cell_type": "code",
   "execution_count": null,
   "id": "6ff2055b",
   "metadata": {},
   "outputs": [],
   "source": [
    "# create an array using arange passing 1, 11 and 2 as parameters\n",
    "np.arange(1,11,2)"
   ]
  },
  {
   "cell_type": "code",
   "execution_count": null,
   "id": "de0de4b3",
   "metadata": {},
   "outputs": [],
   "source": [
    "# create numpy array using eye function with 3 as passed parameter\n",
    "np.eye(2, dtype = float)"
   ]
  },
  {
   "cell_type": "code",
   "execution_count": null,
   "id": "63673c86",
   "metadata": {},
   "outputs": [],
   "source": [
    "# create a numpy array using zero function with (3,2) as passed parameter takes default float \n",
    "np.zeros((3,5),dtype=\"int\") # defalut float"
   ]
  },
  {
   "cell_type": "code",
   "execution_count": null,
   "id": "14f1d7a8",
   "metadata": {},
   "outputs": [],
   "source": [
    "#create a numpy array using full function with (3,2) and 2 as passed parameter\n",
    "np.full((2,3),111,dtype=int)\n"
   ]
  },
  {
   "cell_type": "code",
   "execution_count": null,
   "id": "9522726d",
   "metadata": {},
   "outputs": [],
   "source": [
    "# create a numpy array using diag function passing a list[1,2,3,4,5]\n",
    "x= [1,2,3,4,5,6,7]\n",
    "np.diag(x)\n"
   ]
  },
  {
   "cell_type": "code",
   "execution_count": 118,
   "id": "96899621",
   "metadata": {},
   "outputs": [
    {
     "name": "stdout",
     "output_type": "stream",
     "text": [
      "[ 1  2  3  4  5  6  7  8  9 10 11 12 13 14 15 16]\n",
      "(16,)\n",
      "1\n"
     ]
    }
   ],
   "source": [
    "# Using arange() to generate numpy array x with numbers between 1 to 16\n",
    "x = np.arange(1, 17)\n",
    "print(x)\n",
    "print(x.shape)\n",
    "print(x.ndim)"
   ]
  },
  {
   "cell_type": "code",
   "execution_count": 119,
   "id": "eb4bcc8a",
   "metadata": {},
   "outputs": [
    {
     "name": "stdout",
     "output_type": "stream",
     "text": [
      "[[ 1  2]\n",
      " [ 3  4]\n",
      " [ 5  6]\n",
      " [ 7  8]\n",
      " [ 9 10]\n",
      " [11 12]\n",
      " [13 14]\n",
      " [15 16]]\n",
      "(8, 2)\n",
      "2\n"
     ]
    }
   ],
   "source": [
    "# Reshape x with 2 rows and 8 columns\n",
    "n=x.reshape((8,2)) # 1d\n",
    "print(n)\n",
    "print(n.shape)\n",
    "print(n.ndim)"
   ]
  },
  {
   "cell_type": "code",
   "execution_count": 120,
   "id": "011b098e",
   "metadata": {},
   "outputs": [
    {
     "name": "stdout",
     "output_type": "stream",
     "text": [
      "[[[ 1  2]\n",
      "  [ 3  4]]\n",
      "\n",
      " [[ 5  6]\n",
      "  [ 7  8]]\n",
      "\n",
      " [[ 9 10]\n",
      "  [11 12]]\n",
      "\n",
      " [[13 14]\n",
      "  [15 16]]]\n",
      "(4, 2, 2)\n",
      "3\n"
     ]
    }
   ],
   "source": [
    "n1=n.reshape((4,2,2))\n",
    "print(n1)\n",
    "print(n1.shape)\n",
    "print(n1.ndim)"
   ]
  },
  {
   "cell_type": "code",
   "execution_count": null,
   "id": "982ec44d",
   "metadata": {},
   "outputs": [],
   "source": [
    "# convert to old dimension\n",
    "v=n.ravel()\n",
    "print(v.shape)\n",
    "print(v)\n",
    "print(v.ndim)"
   ]
  },
  {
   "cell_type": "code",
   "execution_count": null,
   "id": "9f685a9c",
   "metadata": {},
   "outputs": [],
   "source": [
    "# reshape x with dimension that will have 2 arrays that contains 4 arrays, each with 2 elements:\n",
    "print(x)\n",
    "x.reshape((2,8))"
   ]
  },
  {
   "cell_type": "code",
   "execution_count": null,
   "id": "bedb5ea8",
   "metadata": {},
   "outputs": [],
   "source": [
    "# Flattening x convert array into one dimensional\n",
    "x.flatten()"
   ]
  },
  {
   "cell_type": "code",
   "execution_count": null,
   "id": "f34eb8ba",
   "metadata": {},
   "outputs": [],
   "source": [
    "# Create an array a with all even numbers between 1 to 17\n",
    "a = np.arange(2,17,2)\n",
    "\n",
    "# print a\n",
    "a"
   ]
  },
  {
   "cell_type": "code",
   "execution_count": null,
   "id": "cada8f61",
   "metadata": {},
   "outputs": [],
   "source": [
    "# Get third element in array a\n",
    "a[2]"
   ]
  },
  {
   "cell_type": "code",
   "execution_count": null,
   "id": "46c174d9",
   "metadata": {},
   "outputs": [],
   "source": [
    "#Print 3rd, 5th, and 7th element in array a\n",
    "a[0:7:2]"
   ]
  },
  {
   "cell_type": "code",
   "execution_count": null,
   "id": "5a896b24",
   "metadata": {},
   "outputs": [],
   "source": [
    "# Define an array 2-D a with [[1,2,3],[4,5,6],[7,8,9]] as its elements.\n",
    "a = np.array([[1,2,3],[4,5,6],[7,8,9]])\n",
    "a"
   ]
  },
  {
   "cell_type": "code",
   "execution_count": null,
   "id": "de449d19",
   "metadata": {},
   "outputs": [],
   "source": [
    "# print the 3rd element from the 3rd row of a\n",
    "a[2,2]"
   ]
  },
  {
   "cell_type": "code",
   "execution_count": null,
   "id": "695c831b",
   "metadata": {},
   "outputs": [],
   "source": [
    "# Define an array b again with [[[1, 2, 3], [4, 5, 6]], [[7, 8, 9], [10, 11, 12]]] as its elements.\n",
    "b = np.array([[[1, 2, 3], [4, 5, 6]], [[7, 8, 9], [10, 11, 12]]])\n",
    "b.shape\n",
    "b"
   ]
  },
  {
   "cell_type": "code",
   "execution_count": null,
   "id": "edeaeea2",
   "metadata": {},
   "outputs": [],
   "source": [
    "# Print 3rd element from 2nd list which is 1st list in nested list passed. Confusing right? 'a' have nested array.Understand the braket differences.\n",
    "b[1][1][2]"
   ]
  },
  {
   "cell_type": "code",
   "execution_count": null,
   "id": "99b925c9",
   "metadata": {},
   "outputs": [],
   "source": [
    "arr=np.arange(1,11)\n",
    "arr"
   ]
  },
  {
   "cell_type": "code",
   "execution_count": null,
   "id": "88663bbf",
   "metadata": {},
   "outputs": [],
   "source": [
    "# Slice elements from 1st to 5th element from array arr:\n",
    "arr[0:5]"
   ]
  },
  {
   "cell_type": "code",
   "execution_count": null,
   "id": "e6be469c",
   "metadata": {},
   "outputs": [],
   "source": [
    "# Slice elements from index 5 to the end of the array arr:\n",
    "arr[5:]"
   ]
  },
  {
   "cell_type": "code",
   "execution_count": null,
   "id": "1ec81bb3",
   "metadata": {},
   "outputs": [],
   "source": [
    "# Slice elements from the beginning to index 5 (not included) in array arr:\n",
    "arr[0:5]"
   ]
  },
  {
   "cell_type": "code",
   "execution_count": null,
   "id": "644cf2f5",
   "metadata": {},
   "outputs": [],
   "source": [
    "# Print every other element from index 1 to index 7:\n",
    "arr[1:7:2]"
   ]
  },
  {
   "cell_type": "code",
   "execution_count": null,
   "id": "c3544ae4",
   "metadata": {},
   "outputs": [],
   "source": [
    "# Return every other element from the entire array arr:\n",
    "arr[0:10:2]"
   ]
  },
  {
   "cell_type": "code",
   "execution_count": null,
   "id": "212a57ed",
   "metadata": {},
   "outputs": [],
   "source": [
    "# Print array a\n",
    "a"
   ]
  },
  {
   "cell_type": "code",
   "execution_count": null,
   "id": "739c2683",
   "metadata": {},
   "outputs": [],
   "source": [
    "# In array 'a' print index 2 from all the rows :\n",
    "arr[2]"
   ]
  },
  {
   "cell_type": "code",
   "execution_count": null,
   "id": "65575765",
   "metadata": {},
   "outputs": [],
   "source": [
    "# From all the elements in 'a', slice index 1 till end, this will return a 2-D array:\n",
    "a[0:,1:]"
   ]
  },
  {
   "cell_type": "code",
   "execution_count": null,
   "id": "88bd04a5",
   "metadata": {},
   "outputs": [],
   "source": [
    "x1= np.arange(10)\n",
    "x1"
   ]
  },
  {
   "cell_type": "code",
   "execution_count": null,
   "id": "091f13ac",
   "metadata": {},
   "outputs": [],
   "source": [
    "# assign x2 = x1\n",
    "x2 = x1 # view "
   ]
  },
  {
   "cell_type": "code",
   "execution_count": null,
   "id": "c142ead0",
   "metadata": {},
   "outputs": [],
   "source": [
    "#print x1 and x2\n",
    "print(x1)\n",
    "print(x2)"
   ]
  },
  {
   "cell_type": "code",
   "execution_count": null,
   "id": "faa7f329",
   "metadata": {},
   "outputs": [],
   "source": [
    "# change 1st element of x2 as 10\n",
    "x2[0] = 10"
   ]
  },
  {
   "cell_type": "code",
   "execution_count": null,
   "id": "81e57b38",
   "metadata": {},
   "outputs": [],
   "source": [
    "#Again print x1 and x2\n",
    "print(x1)\n",
    "print(x2)"
   ]
  },
  {
   "cell_type": "code",
   "execution_count": null,
   "id": "d15ebc48",
   "metadata": {},
   "outputs": [],
   "source": [
    "# memory check\n",
    "print(id(x1))\n",
    "print(id(x2))"
   ]
  },
  {
   "cell_type": "code",
   "execution_count": null,
   "id": "8bc9e9bb",
   "metadata": {},
   "outputs": [],
   "source": [
    "# Check memory share between x1 and x2\n",
    "print(np.shares_memory(x1, x2))\n",
    "print(id(x1))\n",
    "print(id(x2))"
   ]
  },
  {
   "cell_type": "code",
   "execution_count": null,
   "id": "71d9214c",
   "metadata": {},
   "outputs": [],
   "source": [
    "# Create a view of x1 and store it in x3.\n",
    "x3 = x1.view()"
   ]
  },
  {
   "cell_type": "code",
   "execution_count": null,
   "id": "39ea503c",
   "metadata": {},
   "outputs": [],
   "source": [
    "# Again check memory share between x1 and x3\n",
    "np.shares_memory(x1, x3)"
   ]
  },
  {
   "cell_type": "code",
   "execution_count": null,
   "id": "7b28df21",
   "metadata": {},
   "outputs": [],
   "source": [
    "#Change 1st element of x3=100\n",
    "x3[0] = 100"
   ]
  },
  {
   "cell_type": "code",
   "execution_count": null,
   "id": "9014ca14",
   "metadata": {},
   "outputs": [],
   "source": [
    "#print x1 and x3 to check if changes reflected in both\n",
    "print(x1)\n",
    "print(x3)"
   ]
  },
  {
   "cell_type": "code",
   "execution_count": null,
   "id": "e7d8102b",
   "metadata": {},
   "outputs": [],
   "source": [
    "# Now create an array x4 which is copy of x1\n",
    "\n",
    "x4 = np.copy(x1)"
   ]
  },
  {
   "cell_type": "code",
   "execution_count": null,
   "id": "fdd719af",
   "metadata": {},
   "outputs": [],
   "source": [
    "# Change the last element of x4 as 900\n",
    "x4[-1] = 900"
   ]
  },
  {
   "cell_type": "code",
   "execution_count": null,
   "id": "50658ca2",
   "metadata": {},
   "outputs": [],
   "source": [
    "# print both x1 and x4 to check if changes reflected in both\n",
    "print(x1)\n",
    "print(x4)"
   ]
  },
  {
   "cell_type": "code",
   "execution_count": null,
   "id": "13f07307",
   "metadata": {},
   "outputs": [],
   "source": [
    "#Check memory share between x1 and x4\n",
    "print(id(x1))\n",
    "print(id(x4))\n",
    "np.shares_memory(x1, x4)"
   ]
  },
  {
   "cell_type": "code",
   "execution_count": null,
   "id": "73915475",
   "metadata": {},
   "outputs": [],
   "source": [
    "#print a\n",
    "a"
   ]
  },
  {
   "cell_type": "code",
   "execution_count": null,
   "id": "d8d64cfd",
   "metadata": {},
   "outputs": [],
   "source": [
    "# Check if every element in array a greater than 3 or not Using '>' notation\n",
    "a > 3"
   ]
  },
  {
   "cell_type": "code",
   "execution_count": null,
   "id": "5d47515b",
   "metadata": {},
   "outputs": [],
   "source": [
    "# Get a list with all elements of array 'a' grater than 3\n",
    "a[a > 3]"
   ]
  },
  {
   "cell_type": "code",
   "execution_count": null,
   "id": "29a9fdb3",
   "metadata": {},
   "outputs": [],
   "source": [
    "# Get a list with all elements of array 'a' greater than 3 but less than 6\n",
    "a[(a > 3) & (a < 6)]"
   ]
  },
  {
   "cell_type": "code",
   "execution_count": null,
   "id": "8bb08ddf",
   "metadata": {},
   "outputs": [],
   "source": [
    "# check if each elements in array 'x1' equals array 'x4' using '==' notation\n",
    "x1 == x4\n",
    "# print(x1)\n",
    "# print(x4)"
   ]
  },
  {
   "cell_type": "code",
   "execution_count": null,
   "id": "f880ab20",
   "metadata": {},
   "outputs": [],
   "source": [
    "# Print Transpose of array 'a'\n",
    "print(a.transpose())\n",
    "#print array 'a'\n",
    "print(\"-----------------\")\n",
    "print(a) "
   ]
  },
  {
   "cell_type": "code",
   "execution_count": null,
   "id": "53f4ea0d",
   "metadata": {},
   "outputs": [],
   "source": [
    "# stack x1 and x4 along columns.\n",
    "print(x1)\n",
    "print(x4)\n",
    "np.vstack((x1, x4))"
   ]
  },
  {
   "cell_type": "code",
   "execution_count": null,
   "id": "3cba3d98",
   "metadata": {},
   "outputs": [],
   "source": [
    "# Inserts values into array x1 before index 4 with elements of x4\n",
    "print(x1)\n",
    "print(x4)\n",
    "np.insert(x1, 4, x4)"
   ]
  },
  {
   "cell_type": "code",
   "execution_count": null,
   "id": "a7e9c915",
   "metadata": {},
   "outputs": [],
   "source": [
    "#defining a\n",
    "import numpy as np\n",
    "a= np.array([[1,2,3],[4,5,6],[7,8,9]])"
   ]
  },
  {
   "cell_type": "code",
   "execution_count": null,
   "id": "c157a910",
   "metadata": {},
   "outputs": [],
   "source": [
    "# print trigonometric sin value of each element of a\n",
    "np.sin(a)"
   ]
  },
  {
   "cell_type": "code",
   "execution_count": null,
   "id": "d6490eb2",
   "metadata": {},
   "outputs": [],
   "source": [
    "(np.sin(a))/(np.cos(a))"
   ]
  },
  {
   "cell_type": "code",
   "execution_count": null,
   "id": "b24472da",
   "metadata": {},
   "outputs": [],
   "source": [
    "# print trigonometric cos value of each element of a\n",
    "print(np.cos(a))\n",
    "print(np.tan(a))"
   ]
  },
  {
   "cell_type": "code",
   "execution_count": null,
   "id": "4192b73b",
   "metadata": {},
   "outputs": [],
   "source": [
    "# Print exponential value of each elements of a\n",
    "np.exp(a)"
   ]
  },
  {
   "cell_type": "code",
   "execution_count": null,
   "id": "97b87909",
   "metadata": {},
   "outputs": [],
   "source": [
    "# print total sum of elements of a\n",
    "np.sum(a)"
   ]
  },
  {
   "cell_type": "code",
   "execution_count": null,
   "id": "d23244ba",
   "metadata": {},
   "outputs": [],
   "source": [
    "# Print sum in array a column wise\n",
    "np.sum(a, axis=1)"
   ]
  },
  {
   "cell_type": "code",
   "execution_count": null,
   "id": "34a85791",
   "metadata": {},
   "outputs": [],
   "source": [
    "# Print sum in array a row wise\n",
    "np.sum(a, axis=0)"
   ]
  },
  {
   "cell_type": "code",
   "execution_count": null,
   "id": "ea4d8d31",
   "metadata": {},
   "outputs": [],
   "source": [
    "# print median of array a\n",
    "np.median(a)"
   ]
  },
  {
   "cell_type": "code",
   "execution_count": null,
   "id": "fe73bf1c",
   "metadata": {},
   "outputs": [],
   "source": [
    "# print standard deviation of array a\n",
    "np.std(a)"
   ]
  },
  {
   "cell_type": "code",
   "execution_count": null,
   "id": "a6574e94",
   "metadata": {},
   "outputs": [],
   "source": [
    "#print largest element present in array a\n",
    "np.max(a)"
   ]
  },
  {
   "cell_type": "code",
   "execution_count": null,
   "id": "c3e69cb5",
   "metadata": {},
   "outputs": [],
   "source": [
    "# print sorted x4 array\n",
    "np.sort(x4)"
   ]
  },
  {
   "cell_type": "code",
   "execution_count": null,
   "id": "938faf77",
   "metadata": {},
   "outputs": [],
   "source": [
    "# print the indexes where the value is 4 in array x1\n",
    "\n",
    "m=np.where(x1 == 4)\n",
    "m"
   ]
  },
  {
   "cell_type": "code",
   "execution_count": null,
   "id": "e7e49d6f",
   "metadata": {},
   "outputs": [],
   "source": [
    "#print array x1\n",
    "x1"
   ]
  },
  {
   "cell_type": "code",
   "execution_count": null,
   "id": "8527cefb",
   "metadata": {},
   "outputs": [],
   "source": [
    "c=np.array([44,55,66,88,99,12,12,12,12,12,10,10,10,101,0])"
   ]
  },
  {
   "cell_type": "code",
   "execution_count": null,
   "id": "3ebd5d31",
   "metadata": {},
   "outputs": [],
   "source": [
    "# Print the indexes where the values are even in array x1\n",
    "np.where(c%2 == 0)"
   ]
  },
  {
   "cell_type": "code",
   "execution_count": null,
   "id": "6437d49d",
   "metadata": {},
   "outputs": [],
   "source": [
    "# Print x1 where x1 is greater than 5, also if number is less than 5 then replace it with 0\n",
    "\n",
    "np.where(x1>5, x1, 0)"
   ]
  },
  {
   "cell_type": "code",
   "execution_count": 105,
   "id": "a23b7ac5",
   "metadata": {},
   "outputs": [
    {
     "name": "stdout",
     "output_type": "stream",
     "text": [
      "['__add__', '__class__', '__class_getitem__', '__contains__', '__delattr__', '__delitem__', '__dir__', '__doc__', '__eq__', '__format__', '__ge__', '__getattribute__', '__getitem__', '__gt__', '__hash__', '__iadd__', '__imul__', '__init__', '__init_subclass__', '__iter__', '__le__', '__len__', '__lt__', '__mul__', '__ne__', '__new__', '__reduce__', '__reduce_ex__', '__repr__', '__reversed__', '__rmul__', '__setattr__', '__setitem__', '__sizeof__', '__str__', '__subclasshook__', 'append', 'clear', 'copy', 'count', 'extend', 'index', 'insert', 'pop', 'remove', 'reverse', 'sort']\n"
     ]
    }
   ],
   "source": [
    "print(dir(list))"
   ]
  },
  {
   "cell_type": "code",
   "execution_count": 106,
   "id": "f738d426",
   "metadata": {},
   "outputs": [
    {
     "name": "stdout",
     "output_type": "stream",
     "text": [
      "['__and__', '__class__', '__class_getitem__', '__contains__', '__delattr__', '__dir__', '__doc__', '__eq__', '__format__', '__ge__', '__getattribute__', '__gt__', '__hash__', '__iand__', '__init__', '__init_subclass__', '__ior__', '__isub__', '__iter__', '__ixor__', '__le__', '__len__', '__lt__', '__ne__', '__new__', '__or__', '__rand__', '__reduce__', '__reduce_ex__', '__repr__', '__ror__', '__rsub__', '__rxor__', '__setattr__', '__sizeof__', '__str__', '__sub__', '__subclasshook__', '__xor__', 'add', 'clear', 'copy', 'difference', 'difference_update', 'discard', 'intersection', 'intersection_update', 'isdisjoint', 'issubset', 'issuperset', 'pop', 'remove', 'symmetric_difference', 'symmetric_difference_update', 'union', 'update']\n"
     ]
    }
   ],
   "source": [
    "print(dir(set))"
   ]
  },
  {
   "cell_type": "code",
   "execution_count": 107,
   "id": "7399b729",
   "metadata": {},
   "outputs": [
    {
     "name": "stdout",
     "output_type": "stream",
     "text": [
      "['__add__', '__class__', '__class_getitem__', '__contains__', '__delattr__', '__dir__', '__doc__', '__eq__', '__format__', '__ge__', '__getattribute__', '__getitem__', '__getnewargs__', '__gt__', '__hash__', '__init__', '__init_subclass__', '__iter__', '__le__', '__len__', '__lt__', '__mul__', '__ne__', '__new__', '__reduce__', '__reduce_ex__', '__repr__', '__rmul__', '__setattr__', '__sizeof__', '__str__', '__subclasshook__', 'count', 'index']\n"
     ]
    }
   ],
   "source": [
    "print(dir(tuple))"
   ]
  },
  {
   "cell_type": "code",
   "execution_count": null,
   "id": "5adf9a2b",
   "metadata": {},
   "outputs": [],
   "source": []
  },
  {
   "cell_type": "code",
   "execution_count": null,
   "id": "4a7757b4",
   "metadata": {},
   "outputs": [],
   "source": []
  }
 ],
 "metadata": {
  "kernelspec": {
   "display_name": "Python 3 (ipykernel)",
   "language": "python",
   "name": "python3"
  },
  "language_info": {
   "codemirror_mode": {
    "name": "ipython",
    "version": 3
   },
   "file_extension": ".py",
   "mimetype": "text/x-python",
   "name": "python",
   "nbconvert_exporter": "python",
   "pygments_lexer": "ipython3",
   "version": "3.9.13"
  }
 },
 "nbformat": 4,
 "nbformat_minor": 5
}
