{
 "cells": [
  {
   "cell_type": "code",
   "execution_count": 1,
   "id": "32b7dde3",
   "metadata": {},
   "outputs": [
    {
     "name": "stdout",
     "output_type": "stream",
     "text": [
      "python \n",
      " programing\n"
     ]
    }
   ],
   "source": [
    "f = \"python \\n programing\"\n",
    "print(f)"
   ]
  },
  {
   "cell_type": "code",
   "execution_count": 2,
   "id": "54f57dee",
   "metadata": {},
   "outputs": [
    {
     "name": "stdout",
     "output_type": "stream",
     "text": [
      "python \\n programing\n"
     ]
    }
   ],
   "source": [
    "# raw starting\n",
    "r = r\"python \\n programing\"\n",
    "print(r)"
   ]
  },
  {
   "cell_type": "code",
   "execution_count": 3,
   "id": "8274ac3f",
   "metadata": {},
   "outputs": [],
   "source": [
    "import re"
   ]
  },
  {
   "cell_type": "code",
   "execution_count": 4,
   "id": "02f4eb26",
   "metadata": {},
   "outputs": [],
   "source": [
    "address = \"78 Hi 11    89 Main, 4th Cross, 123, Road, Marathalli, 5678 Bangalore, 560023 67893\""
   ]
  },
  {
   "cell_type": "code",
   "execution_count": 5,
   "id": "221be514",
   "metadata": {},
   "outputs": [
    {
     "name": "stdout",
     "output_type": "stream",
     "text": [
      "sorting the only nums from address ['78', '11', '89', '4', '123', '5678', '560023', '67893']\n"
     ]
    }
   ],
   "source": [
    "add_nos = re.findall(R'\\d+', address)\n",
    "\n",
    "print(f'sorting the only nums from address {add_nos}')"
   ]
  },
  {
   "cell_type": "code",
   "execution_count": 6,
   "id": "ece92c34",
   "metadata": {},
   "outputs": [
    {
     "name": "stdout",
     "output_type": "stream",
     "text": [
      "sorting the only nums from address ['78', '11', '89', '12', '56', '78', '56', '00', '23', '67', '89']\n"
     ]
    }
   ],
   "source": [
    "## now i want nos with 6 digit only\n",
    "# REAL LIFE APPLICATION - EXTRACTING THE PIN CODES\n",
    "\n",
    "add_dig = re.findall(r'\\d{2}', address)\n",
    "\n",
    "print(f'sorting the only nums from address {add_dig}')"
   ]
  },
  {
   "cell_type": "code",
   "execution_count": 7,
   "id": "6d4f7f37",
   "metadata": {},
   "outputs": [
    {
     "name": "stdout",
     "output_type": "stream",
     "text": [
      "sorting the only nums from address ['78', '11', '89', '4', '123', '5678', '560023', '67893']\n"
     ]
    }
   ],
   "source": [
    "# now i want nos with 1-3 digit only\n",
    "add_digs = re.findall(r'\\d{1,6}',address)\n",
    "print(f'sorting the only nums from address {add_digs}')"
   ]
  },
  {
   "cell_type": "code",
   "execution_count": 8,
   "id": "42348b5a",
   "metadata": {},
   "outputs": [],
   "source": [
    "\n",
    "s = '''\n",
    "<html>\n",
    "<head>\n",
    "<title>Current IP Address Allocations\n",
    "</title>\n",
    "</head>\n",
    "<body>\n",
    "IP Address are 172.45.78.109\n",
    "LoopBack Address: 127.0.0.1\n",
    "Computer 1: 10.67.89.101\n",
    "Computer 2: 11.67.98.102\n",
    "Computer 3: 12.68.98.102\n",
    "</body>\n",
    "</html>\n",
    "'''"
   ]
  },
  {
   "cell_type": "code",
   "execution_count": 9,
   "id": "f914f305",
   "metadata": {},
   "outputs": [
    {
     "name": "stdout",
     "output_type": "stream",
     "text": [
      "ip address are -: ['172.45.78.109', '127.0.0.1', '10.67.89.101', '11.67.98.102', '12.68.98.102']\n"
     ]
    }
   ],
   "source": [
    "ip_s = re.findall(r'\\d{1,3}.\\d{1,3}.\\d{1,3}.\\d{1,3}',s)\n",
    "print(f'ip address are -: {ip_s}')"
   ]
  },
  {
   "cell_type": "code",
   "execution_count": 10,
   "id": "c306bdb1",
   "metadata": {},
   "outputs": [
    {
     "name": "stdout",
     "output_type": "stream",
     "text": [
      "ip address are -: ['10.67.89.101', '11.67.98.102']\n"
     ]
    }
   ],
   "source": [
    "### 10  0r 11\n",
    "ip_s1=re.findall(r\"1[0-1]\\.\\d{1,3}\\.\\d{1,3}\\.\\d{1,3}\", s)\n",
    "print(f'ip address are -: {ip_s1}')"
   ]
  },
  {
   "cell_type": "code",
   "execution_count": 11,
   "id": "d7da7fe8",
   "metadata": {},
   "outputs": [
    {
     "name": "stdout",
     "output_type": "stream",
     "text": [
      "ip address are -: ['10.67.89.101', '11.67.98.102']\n"
     ]
    }
   ],
   "source": [
    "### 10  0r 11\n",
    "ip_s1=re.findall(r\"1[0|1]\\.\\d{1,3}\\.\\d{1,3}\\.\\d{1,3}\", s)\n",
    "print(f'ip address are -: {ip_s1}')"
   ]
  },
  {
   "cell_type": "code",
   "execution_count": 12,
   "id": "1186b188",
   "metadata": {},
   "outputs": [
    {
     "name": "stdout",
     "output_type": "stream",
     "text": [
      "ip address are -: ['10.67.89.101']\n"
     ]
    }
   ],
   "source": [
    "### 10  only\n",
    "ip_s0=re.findall(r\"10\\.\\d{1,3}\\.\\d{1,3}\\.\\d{1,3}\", s)\n",
    "print(f'ip address are -: {ip_s0}')"
   ]
  },
  {
   "cell_type": "code",
   "execution_count": 13,
   "id": "b591ed35",
   "metadata": {},
   "outputs": [
    {
     "name": "stdout",
     "output_type": "stream",
     "text": [
      "Find all matches for format Month day\n",
      "gives Month Date format - ['June 24', 'August 9', 'Dec 12']\n",
      "gives Date format - ['24', '9', '12']\n",
      "gives tuple of Month & Date format - [('June', '24'), ('August', '9'), ('Dec', '12')]\n"
     ]
    }
   ],
   "source": [
    "print(\"Find all matches for format Month day\")\n",
    "\n",
    "matches = re.findall(r\"[A-Z][a-z]+\\s\\d{1,2}\", \"These are the match dates June 24, August 9, Dec 12\")\n",
    "print(f'gives Month Date format - {matches}')\n",
    "\n",
    "matches = re.findall(r\"[A-Z][a-z]+\\s(\\d{1,2})\", \"These are the match dates June 24, August 9, Dec 12\")\n",
    "print(f'gives Date format - {matches}')\n",
    "\n",
    "matches = re.findall(r\"([A-Z][a-z]+)\\s(\\d{1,2})\", \"These are the match dates June 24, August 9, Dec 12\")\n",
    "print(f'gives tuple of Month & Date format - {matches}')"
   ]
  },
  {
   "cell_type": "code",
   "execution_count": 14,
   "id": "402f38d5",
   "metadata": {},
   "outputs": [
    {
     "name": "stdout",
     "output_type": "stream",
     "text": [
      "['alice@google.com', 'helloab@abc.com', '23@gmail.com', 'my23@gmail.com', '_@gmail.com']\n"
     ]
    }
   ],
   "source": [
    "s = \"purple alice@google.com abcde helloab@abc.com ---@gmail.com 23@gmail.com my23@gmail.com _@gmail.com\"\n",
    "\n",
    "emails = re.findall(r\"\\w+@\\w+\\.\\w+\", s)\n",
    "print(emails)"
   ]
  },
  {
   "cell_type": "code",
   "execution_count": 15,
   "id": "430729e5",
   "metadata": {},
   "outputs": [
    {
     "name": "stdout",
     "output_type": "stream",
     "text": [
      "starts with alphabets only ['23@gmail.com', '23@gmail.com']\n"
     ]
    }
   ],
   "source": [
    "s = \"purple alice@google.com abcde helloab@abc.com ---@gmail.com 23@gmail.com my23@gmail.com _@gmail.com\"\n",
    "\n",
    "emails = re.findall(r\"\\d+@\\w+\\.\\w+\", s)\n",
    "print(f'starts with alphabets only {emails}')\n",
    "\n",
    "# \\w => A-Za-z0-9_"
   ]
  },
  {
   "cell_type": "code",
   "execution_count": 16,
   "id": "4d728805",
   "metadata": {},
   "outputs": [
    {
     "name": "stdout",
     "output_type": "stream",
     "text": [
      "['23', '453214']\n"
     ]
    }
   ],
   "source": [
    "# findall - digit 0ne or more\n",
    "new_st2 = 'Friend in need is 23 friend in 453214 deed'\n",
    "nr6 = re.findall('\\d+',new_st2)\n",
    "print(nr6)"
   ]
  },
  {
   "cell_type": "code",
   "execution_count": 17,
   "id": "79a918aa",
   "metadata": {},
   "outputs": [
    {
     "name": "stdout",
     "output_type": "stream",
     "text": [
      "['F', 'r', 'i', 'e', 'n', 'd', ' ', 'i', 'n', ' ', 'n', 'e', 'e', 'd', ' ', 'i', 's', ' ', ' ', 'f', 'r', 'i', 'e', 'n', 'd', ' ', 'i', 'n', ' ', ' ', 'd', 'e', 'e', 'd']\n"
     ]
    }
   ],
   "source": [
    "# findall - except digit\n",
    "new_st2 = 'Friend in need is 23 friend in 453214 deed'\n",
    "nr6 = re.findall('\\D',new_st2)\n",
    "print(nr6)"
   ]
  },
  {
   "cell_type": "code",
   "execution_count": 18,
   "id": "6328eed0",
   "metadata": {},
   "outputs": [
    {
     "name": "stdout",
     "output_type": "stream",
     "text": [
      "['F', 'r', 'i', 'e', 'n', 'd', 'i', 'n', 'n', 'e', 'e', 'd', 'i', 's', '2', '3', 'f', 'r', 'i', 'e', 'n', 'd', 'i', 'n', '4', '5', '3', '2', '1', '4', 'd', 'e', 'e', 'd']\n"
     ]
    }
   ],
   "source": [
    "# findall - words ( removes spaces)\n",
    "new_st2 = 'Friend in need is 23 friend in 453214 deed'\n",
    "nr6 = re.findall('\\w',new_st2)\n",
    "print(nr6)"
   ]
  },
  {
   "cell_type": "code",
   "execution_count": 19,
   "id": "c477a54b",
   "metadata": {},
   "outputs": [
    {
     "name": "stdout",
     "output_type": "stream",
     "text": [
      "['2', '3', '3', '2']\n"
     ]
    }
   ],
   "source": [
    "# findall - sets - [23] one digit\n",
    "new_st2 = 'Friend in need is 23 friend in 453214 deed'\n",
    "nr6 = re.findall('[23]',new_st2) # 2,3\n",
    "print(nr6)"
   ]
  },
  {
   "cell_type": "code",
   "execution_count": 20,
   "id": "e6edb038",
   "metadata": {},
   "outputs": [
    {
     "name": "stdout",
     "output_type": "stream",
     "text": [
      "Emma\n"
     ]
    }
   ],
   "source": [
    "\n",
    "\n",
    "target_string = \"Emma is a Python developer \\n Emma also knows ML and AI\"\n",
    "\n",
    "# caret (^) matches at the beginning of a string\n",
    "result = re.search(r\"^\\w{4}\", target_string)\n",
    "print(result.group())"
   ]
  },
  {
   "cell_type": "code",
   "execution_count": 21,
   "id": "b10bf0ef",
   "metadata": {},
   "outputs": [
    {
     "name": "stdout",
     "output_type": "stream",
     "text": [
      "AI\n"
     ]
    }
   ],
   "source": [
    "\n",
    "\n",
    "str1 = \"Emma is a Python developer \\nEmma also knows ML and AI\"\n",
    "# dollar sign($) to match at the end of the string\n",
    "result = re.search(r\"\\w{2}$\", str1)\n",
    "print(result.group())"
   ]
  },
  {
   "cell_type": "code",
   "execution_count": 22,
   "id": "f95f0e5b",
   "metadata": {},
   "outputs": [
    {
     "name": "stdout",
     "output_type": "stream",
     "text": [
      "type is object <re.Match object; span=(0, 2), match='In'>\n"
     ]
    }
   ],
   "source": [
    "st = 'In a world where you can be anything, be kind'\n",
    "\n",
    "match_object = re.search('In',st)\n",
    "print(f'type is object {match_object}')"
   ]
  },
  {
   "cell_type": "code",
   "execution_count": 23,
   "id": "f71581a5",
   "metadata": {},
   "outputs": [
    {
     "name": "stdout",
     "output_type": "stream",
     "text": [
      "type is object <re.Match object; span=(25, 27), match='be'>\n"
     ]
    }
   ],
   "source": [
    "match_object1 = re.search('be',st)\n",
    "print(f'type is object {match_object1}')"
   ]
  },
  {
   "cell_type": "code",
   "execution_count": 24,
   "id": "9743e074",
   "metadata": {},
   "outputs": [
    {
     "data": {
      "text/plain": [
       "0"
      ]
     },
     "execution_count": 24,
     "metadata": {},
     "output_type": "execute_result"
    }
   ],
   "source": [
    "match_object.start()"
   ]
  },
  {
   "cell_type": "code",
   "execution_count": 25,
   "id": "a7ee8c89",
   "metadata": {},
   "outputs": [
    {
     "data": {
      "text/plain": [
       "25"
      ]
     },
     "execution_count": 25,
     "metadata": {},
     "output_type": "execute_result"
    }
   ],
   "source": [
    "match_object1.start()"
   ]
  },
  {
   "cell_type": "code",
   "execution_count": 26,
   "id": "da6217c9",
   "metadata": {},
   "outputs": [
    {
     "data": {
      "text/plain": [
       "(0, 2)"
      ]
     },
     "execution_count": 26,
     "metadata": {},
     "output_type": "execute_result"
    }
   ],
   "source": [
    "match_object.span()"
   ]
  },
  {
   "cell_type": "code",
   "execution_count": 27,
   "id": "e66d7461",
   "metadata": {},
   "outputs": [
    {
     "data": {
      "text/plain": [
       "(25, 27)"
      ]
     },
     "execution_count": 27,
     "metadata": {},
     "output_type": "execute_result"
    }
   ],
   "source": [
    "match_object1.span()"
   ]
  },
  {
   "cell_type": "code",
   "execution_count": 28,
   "id": "71360e47",
   "metadata": {},
   "outputs": [
    {
     "data": {
      "text/plain": [
       "<re.Match object; span=(11, 17), match='inform'>"
      ]
     },
     "execution_count": 28,
     "metadata": {},
     "output_type": "execute_result"
    }
   ],
   "source": [
    "source_str  = 'we need to inform him with the latest information'\n",
    "\n",
    "info = re.search('inform', source_str)\n",
    "info"
   ]
  },
  {
   "cell_type": "code",
   "execution_count": 29,
   "id": "caa2358a",
   "metadata": {},
   "outputs": [
    {
     "name": "stdout",
     "output_type": "stream",
     "text": [
      "inform is there\n"
     ]
    }
   ],
   "source": [
    "if re.search('inform', source_str):\n",
    "    print('inform is there')"
   ]
  },
  {
   "cell_type": "code",
   "execution_count": 30,
   "id": "e3e6b44b",
   "metadata": {},
   "outputs": [
    {
     "name": "stdout",
     "output_type": "stream",
     "text": [
      "here is \\kane\n"
     ]
    },
    {
     "data": {
      "text/plain": [
       "<re.Match object; span=(8, 13), match='\\\\kane'>"
      ]
     },
     "execution_count": 30,
     "metadata": {},
     "output_type": "execute_result"
    }
   ],
   "source": [
    "randomstr = 'here is \\\\kane'\n",
    "\n",
    "print(randomstr)\n",
    "\n",
    "re.search(r'\\\\kane',randomstr)"
   ]
  },
  {
   "cell_type": "code",
   "execution_count": 31,
   "id": "940affc3",
   "metadata": {},
   "outputs": [
    {
     "data": {
      "text/plain": [
       "['In', 'a', 'world', 'where', 'you', 'can', 'be', 'anything,', 'be', 'kind']"
      ]
     },
     "execution_count": 31,
     "metadata": {},
     "output_type": "execute_result"
    }
   ],
   "source": [
    "r = re.split(' ',st)\n",
    "r"
   ]
  },
  {
   "cell_type": "code",
   "execution_count": 32,
   "id": "dce89f3a",
   "metadata": {},
   "outputs": [
    {
     "data": {
      "text/plain": [
       "['In a world wh', 'r', ' you can b', ' anything, b', ' kind']"
      ]
     },
     "execution_count": 32,
     "metadata": {},
     "output_type": "execute_result"
    }
   ],
   "source": [
    "r1 = re.split('e',st)\n",
    "r1"
   ]
  },
  {
   "cell_type": "code",
   "execution_count": 33,
   "id": "bd3c3142",
   "metadata": {},
   "outputs": [
    {
     "data": {
      "text/plain": [
       "['In a world wh', 'r', ' you can be anything, be kind']"
      ]
     },
     "execution_count": 33,
     "metadata": {},
     "output_type": "execute_result"
    }
   ],
   "source": [
    "# max split\n",
    "r12 = re.split('e',st,2)\n",
    "r12 "
   ]
  },
  {
   "cell_type": "code",
   "execution_count": 34,
   "id": "4c634d8f",
   "metadata": {},
   "outputs": [
    {
     "name": "stdout",
     "output_type": "stream",
     "text": [
      "the value of s               : Welcome to   Regex    Programming   using   Python\n",
      "Regex Split value of s        :['Welcome', 'to', '', '', 'Regex', '', '', '', 'Programming', '', '', 'using', '', '', 'Python']\n",
      "Regex Split value of s        :['Welcome', 'to', 'Regex', 'Programming', 'using', 'Python']\n"
     ]
    }
   ],
   "source": [
    "s = \"Welcome to   Regex    Programming   using   Python\"\n",
    "\n",
    "print(f'the value of s               : {s}')\n",
    "\n",
    "lstVal = re.split(r'\\s', s)\n",
    "#\\s only one space\n",
    "print(f'Regex Split value of s        :{lstVal}')\n",
    "\n",
    "lstVal2 = re.split(r'\\s+', s)\n",
    "#\\s+ space one or more\n",
    "print(f'Regex Split value of s        :{lstVal2}')"
   ]
  },
  {
   "cell_type": "code",
   "execution_count": 35,
   "id": "b9951fe7",
   "metadata": {},
   "outputs": [
    {
     "data": {
      "text/plain": [
       "'In a world whErE you can bE anything, bE kind'"
      ]
     },
     "execution_count": 35,
     "metadata": {},
     "output_type": "execute_result"
    }
   ],
   "source": [
    "sb = re.sub('e','E',st)\n",
    "sb"
   ]
  },
  {
   "cell_type": "code",
   "execution_count": 36,
   "id": "f837c1a4",
   "metadata": {},
   "outputs": [
    {
     "data": {
      "text/plain": [
       "'In a world whErE you can be anything, be kind'"
      ]
     },
     "execution_count": 36,
     "metadata": {},
     "output_type": "execute_result"
    }
   ],
   "source": [
    "# max no of occurances to be substituted\n",
    "sb1 = re.sub('e','E',st,2)\n",
    "sb1"
   ]
  },
  {
   "cell_type": "code",
   "execution_count": 37,
   "id": "c29237f1",
   "metadata": {},
   "outputs": [
    {
     "data": {
      "text/plain": [
       "re.compile(r'[r]at', re.UNICODE)"
      ]
     },
     "execution_count": 37,
     "metadata": {},
     "output_type": "execute_result"
    }
   ],
   "source": [
    "a = 'hat mat rat pat '\n",
    "\n",
    "reg = re.compile('[r]at')\n",
    "reg"
   ]
  },
  {
   "cell_type": "code",
   "execution_count": 38,
   "id": "25101a8f",
   "metadata": {},
   "outputs": [
    {
     "data": {
      "text/plain": [
       "'hat mat FOOD pat '"
      ]
     },
     "execution_count": 38,
     "metadata": {},
     "output_type": "execute_result"
    }
   ],
   "source": [
    "rplce = reg.sub('FOOD',a)\n",
    "rplce"
   ]
  },
  {
   "cell_type": "code",
   "execution_count": 39,
   "id": "d1a8ca3d",
   "metadata": {},
   "outputs": [
    {
     "data": {
      "text/plain": [
       "'hat mat FOOD pat '"
      ]
     },
     "execution_count": 39,
     "metadata": {},
     "output_type": "execute_result"
    }
   ],
   "source": [
    "#replacing \n",
    "\n",
    "rplc = re.sub('rat','FOOD',a)\n",
    "rplc"
   ]
  },
  {
   "cell_type": "code",
   "execution_count": 40,
   "id": "1c5ff96c",
   "metadata": {},
   "outputs": [
    {
     "data": {
      "text/plain": [
       "'keep the blue flag\\nflying high\\nchelsa\\n'"
      ]
     },
     "execution_count": 40,
     "metadata": {},
     "output_type": "execute_result"
    }
   ],
   "source": [
    "chelsea = '''keep the blue flag\n",
    "flying high\n",
    "chelsa\n",
    "'''\n",
    "chelsea"
   ]
  },
  {
   "cell_type": "code",
   "execution_count": 41,
   "id": "0d579da5",
   "metadata": {},
   "outputs": [
    {
     "data": {
      "text/plain": [
       "'keep the blue flag flying high chelsa '"
      ]
     },
     "execution_count": 41,
     "metadata": {},
     "output_type": "execute_result"
    }
   ],
   "source": [
    "new_str = re.sub('\\n',' ',chelsea)\n",
    "new_strnew_str = re.sub('\\n',' ',chelsea)\n",
    "new_str"
   ]
  },
  {
   "cell_type": "code",
   "execution_count": 42,
   "id": "aa2a50ab",
   "metadata": {},
   "outputs": [
    {
     "data": {
      "text/plain": [
       "'keep the blue flag flying high chelsa '"
      ]
     },
     "execution_count": 42,
     "metadata": {},
     "output_type": "execute_result"
    }
   ],
   "source": [
    "# other method using compile\n",
    "\n",
    "comp = re.compile('\\n')\n",
    "\n",
    "new =comp.sub(' ',chelsea)\n",
    "new"
   ]
  },
  {
   "cell_type": "code",
   "execution_count": 46,
   "id": "9b00d5c3",
   "metadata": {},
   "outputs": [
    {
     "data": {
      "text/plain": [
       "['444-122-1234']"
      ]
     },
     "execution_count": 46,
     "metadata": {},
     "output_type": "execute_result"
    }
   ],
   "source": [
    "phone_no = ''' \n",
    "444-122-1234\n",
    "123-122-78999\n",
    "111-123-23\n",
    "67-7890-2019\n",
    "'''\n",
    "# 3 digit @ start & middle, end -4 digit\n",
    "\n",
    "reg = re.findall(r'\\d{3}\\-\\d{3}\\-\\b\\d{4}\\b',phone_no)\n",
    "reg"
   ]
  },
  {
   "cell_type": "code",
   "execution_count": 45,
   "id": "25bd3b1e",
   "metadata": {},
   "outputs": [
    {
     "name": "stdout",
     "output_type": "stream",
     "text": [
      "None\n",
      "Python\n",
      "['Python', 'pandas']\n"
     ]
    }
   ],
   "source": [
    "import re\n",
    "\n",
    "target_string = \"Jessy loves Python and pandas\"\n",
    "# Match six-letter word\n",
    "pattern = r\"\\w{6}\"\n",
    "\n",
    "# match() method\n",
    "result = re.match(pattern, target_string)\n",
    "print(result)\n",
    "\n",
    "\n",
    "# search() method\n",
    "result = re.search(pattern, target_string)\n",
    "print(result.group()) \n",
    "\n",
    "\n",
    "# findall() method\n",
    "result = re.findall(pattern, target_string)\n",
    "print(result) \n"
   ]
  },
  {
   "cell_type": "code",
   "execution_count": 47,
   "id": "3cb4d957",
   "metadata": {},
   "outputs": [
    {
     "name": "stdout",
     "output_type": "stream",
     "text": [
      "<re.Match object; span=(0, 5), match='Jessy'>\n",
      "Jessy\n",
      "['Jessy', 'loves']\n"
     ]
    }
   ],
   "source": [
    "import re\n",
    "\n",
    "target_string = \"Jessy loves Python and pandas\"\n",
    "# Match six-letter word\n",
    "pattern = r\"\\b\\w{5}\\b\"\n",
    "\n",
    "# match() method\n",
    "result = re.match(pattern, target_string)\n",
    "print(result)\n",
    "\n",
    "\n",
    "# search() method\n",
    "result = re.search(pattern, target_string)\n",
    "print(result.group()) \n",
    "\n",
    "\n",
    "# findall() method\n",
    "result = re.findall(pattern, target_string)\n",
    "print(result) "
   ]
  },
  {
   "cell_type": "code",
   "execution_count": null,
   "id": "a78b8636",
   "metadata": {},
   "outputs": [],
   "source": []
  }
 ],
 "metadata": {
  "kernelspec": {
   "display_name": "Python 3 (ipykernel)",
   "language": "python",
   "name": "python3"
  },
  "language_info": {
   "codemirror_mode": {
    "name": "ipython",
    "version": 3
   },
   "file_extension": ".py",
   "mimetype": "text/x-python",
   "name": "python",
   "nbconvert_exporter": "python",
   "pygments_lexer": "ipython3",
   "version": "3.9.13"
  }
 },
 "nbformat": 4,
 "nbformat_minor": 5
}
